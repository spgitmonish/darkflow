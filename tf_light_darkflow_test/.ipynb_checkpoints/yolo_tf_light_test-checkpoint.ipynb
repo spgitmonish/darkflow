{
 "cells": [
  {
   "cell_type": "markdown",
   "metadata": {},
   "source": [
    "### Imports"
   ]
  },
  {
   "cell_type": "code",
   "execution_count": 8,
   "metadata": {
    "collapsed": false
   },
   "outputs": [],
   "source": [
    "import os\n",
    "import cv2\n",
    "import numpy as np\n",
    "import shutil\n",
    "import time\n",
    "\n",
    "from darkflow.net.build import TFNet\n",
    "from pprint import pprint\n",
    "from matplotlib import pyplot as plt\n",
    "from PIL import Image\n",
    "from boxespredict.yolomodeltest import *"
   ]
  },
  {
   "cell_type": "markdown",
   "metadata": {},
   "source": [
    "### Setup the .pb file and the .meta file paths"
   ]
  },
  {
   "cell_type": "code",
   "execution_count": 9,
   "metadata": {
    "collapsed": false
   },
   "outputs": [
    {
     "name": "stdout",
     "output_type": "stream",
     "text": [
      "\n",
      "Loading from .pb and .meta\n",
      "Running entirely on CPU\n"
     ]
    }
   ],
   "source": [
    "# The protocol buffer file and the .meta file\n",
    "# NOTE: The .met file is a JSON dump of everything necessary for post-processing such as anchors \n",
    "#       and labels\n",
    "if os.name == 'nt':\n",
    "    # 30000 steps(Model trained with Udacity Simulator Data)\n",
    "    #options = {\"pbLoad\": os.getcwd() + \"\\\\saved_graph\\\\30000-tiny-yolo-voc-3c.pb\", \"metaLoad\": os.getcwd() + \"\\\\saved_graph\\\\30000-tiny-yolo-voc-3c.meta\", \"threshold\": 0.1}\n",
    "    \n",
    "    # 40375 steps(Model trained with Udacity Simulator Data)\n",
    "    # options = {\"pbLoad\": os.getcwd() + \"\\\\saved_graph\\\\40375-tiny-yolo-voc-3c.pb\", \"metaLoad\": os.getcwd() + \"\\\\saved_graph\\\\40375-tiny-yolo-voc-3c.meta\", \"threshold\": 0.1}\n",
    "    \n",
    "    # 39000 steps(Model trained with Bosch and Udacity Simulator Data)\n",
    "    options = {\"pbLoad\": os.getcwd() + \"\\\\saved_graph\\\\39000-tiny-yolo-voc-3c.pb\", \"metaLoad\": os.getcwd() + \"\\\\saved_graph\\\\39000-tiny-yolo-voc-3c.meta\", \"threshold\": 0.1}\n",
    "else:\n",
    "    # 30000 steps(Model trained with Udacity Simulator Data)\n",
    "    #options = {\"pbLoad\": os.getcwd() + \"/saved_graph/30000-tiny-yolo-voc-3c.pb\", \"metaLoad\": os.getcwd() + \"/saved_graph/30000-tiny-yolo-voc-3c.meta\", \"threshold\": 0.1, \"gpu\": 1.0}\n",
    "\n",
    "    #40375 steps(Model trained with Udacity Simulator Data)\n",
    "    #options = {\"pbLoad\": os.getcwd() + \"/saved_graph/40375-tiny-yolo-voc-3c.pb\", \"metaLoad\": os.getcwd() + \"/saved_graph/40375-tiny-yolo-voc-3c.meta\", \"threshold\": 0.1, \"gpu\": 1.0}\n",
    "    \n",
    "    #40375 steps(Model trained with Bosch and Udacity Simulator Data)\n",
    "    options = {\"pbLoad\": os.getcwd() + \"/saved_graph/39000-tiny-yolo-voc-3c.pb\", \"metaLoad\": os.getcwd() + \"/saved_graph/39000-tiny-yolo-voc-3c.meta\", \"threshold\": 0.1, \"gpu\": 1.0}\n",
    "\n",
    "# Object of Darkflow\n",
    "tfnet = TFNet(options)"
   ]
  },
  {
   "cell_type": "markdown",
   "metadata": {},
   "source": [
    "### Get the predictions from the model for all the images in the sample folder"
   ]
  },
  {
   "cell_type": "code",
   "execution_count": 10,
   "metadata": {
    "collapsed": false
   },
   "outputs": [
    {
     "name": "stdout",
     "output_type": "stream",
     "text": [
      "\n",
      "Loading from .pb and .meta\n"
     ]
    },
    {
     "name": "stderr",
     "output_type": "stream",
     "text": [
      "C:\\Users\\443615\\Documents\\Personal\\Nanodegree\\SDC\\Term3\\Capstone\\darkflow\\tf_light_darkflow_test\\boxespredict\\boxes.py:26: VisibleDeprecationWarning: using a non-integer number instead of an integer will result in an error in the future\n",
      "  net_out = net_out_in.reshape([H, W, B, net_out_in.shape[2]/B])\n"
     ]
    },
    {
     "name": "stdout",
     "output_type": "stream",
     "text": [
      "{'left0000.jpg': [{'bottomright': {'x': 720, 'y': 178},\n",
      "                   'confidence': 0.1038123,\n",
      "                   'label': 'green_rect',\n",
      "                   'topleft': {'x': 679, 'y': 87}},\n",
      "                  {'bottomright': {'x': 675, 'y': 485},\n",
      "                   'confidence': 0.57547635,\n",
      "                   'label': 'green_rect',\n",
      "                   'topleft': {'x': 641, 'y': 404}},\n",
      "                  {'bottomright': {'x': 675, 'y': 460},\n",
      "                   'confidence': 0.24338238,\n",
      "                   'label': 'green_rect',\n",
      "                   'topleft': {'x': 660, 'y': 420}},\n",
      "                  {'bottomright': {'x': 668, 'y': 463},\n",
      "                   'confidence': 0.39080223,\n",
      "                   'label': 'green_rect',\n",
      "                   'topleft': {'x': 654, 'y': 419}}],\n",
      " 'left0026.jpg': [{'bottomright': {'x': 481, 'y': 160},\n",
      "                   'confidence': 0.11111123,\n",
      "                   'label': 'red_rect',\n",
      "                   'topleft': {'x': 447, 'y': 99}},\n",
      "                  {'bottomright': {'x': 412, 'y': 185},\n",
      "                   'confidence': 0.11186311,\n",
      "                   'label': 'green_rect',\n",
      "                   'topleft': {'x': 365, 'y': 75}}],\n",
      " 'left0051.jpg': [],\n",
      " 'left0079.jpg': [{'bottomright': {'x': 579, 'y': 414},\n",
      "                   'confidence': 0.11546514,\n",
      "                   'label': 'red_rect',\n",
      "                   'topleft': {'x': 557, 'y': 362}},\n",
      "                  {'bottomright': {'x': 674, 'y': 425},\n",
      "                   'confidence': 0.44864908,\n",
      "                   'label': 'red_rect',\n",
      "                   'topleft': {'x': 653, 'y': 379}},\n",
      "                  {'bottomright': {'x': 690, 'y': 425},\n",
      "                   'confidence': 0.35954106,\n",
      "                   'label': 'red_rect',\n",
      "                   'topleft': {'x': 668, 'y': 375}},\n",
      "                  {'bottomright': {'x': 778, 'y': 422},\n",
      "                   'confidence': 0.31585452,\n",
      "                   'label': 'red_rect',\n",
      "                   'topleft': {'x': 758, 'y': 374}},\n",
      "                  {'bottomright': {'x': 792, 'y': 421},\n",
      "                   'confidence': 0.21269684,\n",
      "                   'label': 'red_rect',\n",
      "                   'topleft': {'x': 772, 'y': 369}},\n",
      "                  {'bottomright': {'x': 587, 'y': 471},\n",
      "                   'confidence': 0.1220045,\n",
      "                   'label': 'red_rect',\n",
      "                   'topleft': {'x': 561, 'y': 411}},\n",
      "                  {'bottomright': {'x': 604, 'y': 475},\n",
      "                   'confidence': 0.1313135,\n",
      "                   'label': 'red_rect',\n",
      "                   'topleft': {'x': 575, 'y': 401}},\n",
      "                  {'bottomright': {'x': 679, 'y': 480},\n",
      "                   'confidence': 0.66289091,\n",
      "                   'label': 'red_rect',\n",
      "                   'topleft': {'x': 652, 'y': 422}},\n",
      "                  {'bottomright': {'x': 785, 'y': 483},\n",
      "                   'confidence': 0.49186662,\n",
      "                   'label': 'red_rect',\n",
      "                   'topleft': {'x': 759, 'y': 428}}],\n",
      " 'left0140.jpg': [],\n",
      " 'left0572.jpg': [],\n",
      " 'left0696.jpg': [],\n",
      " 'left0710.jpg': []}\n"
     ]
    }
   ],
   "source": [
    "# Predictions using darkflow cythonized code and non-cythonized code\n",
    "predictions_darkflow = {}\n",
    "predictions_nondarkflow = {}\n",
    "yolo_test = YOLOTest(options)\n",
    "\n",
    "'''NOTE: The Pythonized prediction time is ~1.2 - 1.5s where as the cythonized version is < 0.5s'''\n",
    "for img_file in os.listdir(os.getcwd() + \"/sample_img_real\"):\n",
    "    file_path = os.getcwd() + \"/sample_img_real/\" + img_file\n",
    "    imgcv = cv2.imread(file_path)\n",
    "    #t = time.time()\n",
    "    result = tfnet.return_predict(imgcv)\n",
    "    #print(\"Cythonized Inference Time %.3f seconds\" % (time.time() - t))\n",
    "    predictions_darkflow[img_file] = result\n",
    "    #t = time.time()\n",
    "    result = return_predict(imgcv, yolo_test)\n",
    "    #print(\"Pythonized Inference Time %.3f seconds\" % (time.time() - t))\n",
    "    predictions_nondarkflow[img_file] = result\n",
    "\n",
    "pprint(predictions_darkflow)"
   ]
  },
  {
   "cell_type": "markdown",
   "metadata": {},
   "source": [
    "### Visualize the predictions"
   ]
  },
  {
   "cell_type": "code",
   "execution_count": 11,
   "metadata": {
    "collapsed": false
   },
   "outputs": [
    {
     "name": "stdout",
     "output_type": "stream",
     "text": [
      "Deleting previous annotations directory\n"
     ]
    }
   ],
   "source": [
    "# Specify the image size to display(in inches)\n",
    "IMAGE_SIZE = (12, 8)\n",
    "\n",
    "# Function to visualize predictions on an image and store\n",
    "def visualizePredictions(predictions, source=\"darkflow\"):\n",
    "    # For each of the annnotations result plot the annotation box and display the image\n",
    "    for img_file, results in predictions.items():\n",
    "        # Read the image file\n",
    "        image_file_path = os.getcwd() + \"/sample_img_real/\" + img_file\n",
    "        image = cv2.imread(image_file_path)\n",
    "\n",
    "        for result in results:\n",
    "            # Get the top left co-ordinates and insert into a tuple\n",
    "            x = result['topleft']['x']\n",
    "            y = result['topleft']['y']\n",
    "            top_left = (x, y)\n",
    "\n",
    "            # Get the top left co-ordinates and insert into a tuple\n",
    "            x = result['bottomright']['x']\n",
    "            y = result['bottomright']['y']\n",
    "            bottom_right = (x, y)\n",
    "\n",
    "            # Get the label and the confidence scores\n",
    "            label = result['label']\n",
    "            confidence = result['confidence']\n",
    "\n",
    "            # Add the bounding boxes and the label with confidence scores if it is above 75%\n",
    "            if confidence > 0.75:\n",
    "                if label == \"red_rect\":\n",
    "                    label_to_display = \"Red\"\n",
    "                    color_to_display = (0, 0, 255)\n",
    "                elif label == \"orange_rect\":\n",
    "                    label_to_display = \"Yellow\"\n",
    "                    color_to_display = (0, 255, 255)\n",
    "                elif label == \"green_rect\":\n",
    "                    label_to_display = \"Green\"\n",
    "                    color_to_display = (0, 255, 0)\n",
    "\n",
    "                # Add the rectangle \n",
    "                image = cv2.rectangle(image, top_left, bottom_right, color_to_display, 3)\n",
    "\n",
    "                # Bottom left of text\n",
    "                bottom_left = (int(image.shape[0]/2) + 20, 20)\n",
    "\n",
    "                # Add the label\n",
    "                image = cv2.putText(image, label_to_display, bottom_left, \n",
    "                                    cv2.FONT_HERSHEY_SIMPLEX, 1, color_to_display, 1)\n",
    "\n",
    "        # Write the final file with or without annotations\n",
    "        cv2.imwrite(annotations_dir + \"/\" + source + \"_\" + img_file, image)\n",
    "        \n",
    "# Remove existing annotations and create new ones based on the results\n",
    "annotations_dir = os.getcwd() + \"/sample_img_annotated\"\n",
    "if os.path.exists(annotations_dir):\n",
    "    print(\"Deleting previous annotations directory\")\n",
    "    shutil.rmtree(annotations_dir)\n",
    "os.makedirs(annotations_dir)\n",
    "\n",
    "# Visualize predictions from the cythonized version and the non-cythonized version\n",
    "visualizePredictions(predictions_darkflow, \"darkflow\")\n",
    "visualizePredictions(predictions_nondarkflow, \"nodarkflow\")"
   ]
  },
  {
   "cell_type": "code",
   "execution_count": null,
   "metadata": {
    "collapsed": true
   },
   "outputs": [],
   "source": []
  }
 ],
 "metadata": {
  "kernelspec": {
   "display_name": "Python 3",
   "language": "python",
   "name": "python3"
  },
  "language_info": {
   "codemirror_mode": {
    "name": "ipython",
    "version": 3
   },
   "file_extension": ".py",
   "mimetype": "text/x-python",
   "name": "python",
   "nbconvert_exporter": "python",
   "pygments_lexer": "ipython3",
   "version": "3.5.2"
  },
  "widgets": {
   "state": {},
   "version": "1.1.2"
  }
 },
 "nbformat": 4,
 "nbformat_minor": 2
}
