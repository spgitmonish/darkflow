{
 "cells": [
  {
   "cell_type": "markdown",
   "metadata": {},
   "source": [
    "### Imports"
   ]
  },
  {
   "cell_type": "code",
   "execution_count": 1,
   "metadata": {
    "collapsed": false
   },
   "outputs": [],
   "source": [
    "import os\n",
    "import cv2\n",
    "import numpy as np\n",
    "import shutil\n",
    "import time\n",
    "\n",
    "from darkflow.net.build import TFNet\n",
    "from pprint import pprint\n",
    "from matplotlib import pyplot as plt\n",
    "from PIL import Image\n",
    "from boxespredict.yolomodeltest import *"
   ]
  },
  {
   "cell_type": "markdown",
   "metadata": {},
   "source": [
    "### Setup the .pb file and the .meta file paths"
   ]
  },
  {
   "cell_type": "code",
   "execution_count": 2,
   "metadata": {
    "collapsed": false
   },
   "outputs": [
    {
     "name": "stdout",
     "output_type": "stream",
     "text": [
      "\n",
      "Loading from .pb and .meta\n",
      "Running entirely on CPU\n"
     ]
    }
   ],
   "source": [
    "# The protocol buffer file and the .meta file\n",
    "# NOTE: The .met file is a JSON dump of everything necessary for post-processing such as anchors \n",
    "#       and labels\n",
    "if os.name == 'nt':\n",
    "    # 30000 steps(Model trained with Udacity Simulator Data)\n",
    "    #options = {\"pbLoad\": os.getcwd() + \"\\\\saved_graph\\\\30000-Sim-tiny-yolo-voc-3c.pb\", \"metaLoad\": os.getcwd() + \"\\\\saved_graph\\\\30000-Sim-tiny-yolo-voc-3c.meta\", \"threshold\": 0.1}\n",
    "    \n",
    "    # 40375 steps(Model trained with Udacity Simulator Data)\n",
    "    # options = {\"pbLoad\": os.getcwd() + \"\\\\saved_graph\\\\40375-Sim-tiny-yolo-voc-3c.pb\", \"metaLoad\": os.getcwd() + \"\\\\saved_graph\\\\40375-Sim-tiny-yolo-voc-3c.meta\", \"threshold\": 0.1}\n",
    "    \n",
    "    # 39000 steps(Model trained with Bosch and Udacity Simulator Data)\n",
    "    #options = {\"pbLoad\": os.getcwd() + \"\\\\saved_graph\\\\39000-SimBosch-tiny-yolo-voc-3c.pb\", \"metaLoad\": os.getcwd() + \"\\\\saved_graph\\\\39000-SimBosch-tiny-yolo-voc-3c.meta\", \"threshold\": 0.1}\n",
    "\n",
    "    # 1750 steps(Model trained with Udacity Real Data)\n",
    "    #options = {\"pbLoad\": os.getcwd() + \"\\\\saved_graph\\\\1750-Real-tiny-yolo-voc-3c.pb\", \"metaLoad\": os.getcwd() + \"\\\\saved_graph\\\\1750-Real-tiny-yolo-voc-3c.meta\", \"threshold\": 0.1}\n",
    "\n",
    "    # 30000 steps(Model trained with Udacity Simulator and Real Data)\n",
    "    options = {\"pbLoad\": os.getcwd() + \"\\\\saved_graph\\\\30000-SimReal-tiny-yolo-voc-3c.pb\", \"metaLoad\": os.getcwd() + \"\\\\saved_graph\\\\30000-SimReal-tiny-yolo-voc-3c.meta\", \"threshold\": 0.1}\n",
    "else:\n",
    "    # 30000 steps(Model trained with Udacity Simulator Data)\n",
    "    #options = {\"pbLoad\": os.getcwd() + \"/saved_graph/30000-Sim-tiny-yolo-voc-3c.pb\", \"metaLoad\": os.getcwd() + \"/saved_graph/30000-Sim-tiny-yolo-voc-3c.meta\", \"threshold\": 0.1, \"gpu\": 1.0}\n",
    "\n",
    "    #40375 steps(Model trained with Udacity Simulator Data)\n",
    "    #options = {\"pbLoad\": os.getcwd() + \"/saved_graph/40375-Sim-tiny-yolo-voc-3c.pb\", \"metaLoad\": os.getcwd() + \"/saved_graph/40375-Sim-tiny-yolo-voc-3c.meta\", \"threshold\": 0.1, \"gpu\": 1.0}\n",
    "    \n",
    "    #39000 steps(Model trained with Bosch and Udacity Simulator Data)\n",
    "    #options = {\"pbLoad\": os.getcwd() + \"/saved_graph/39000-SimBosch-tiny-yolo-voc-3c.pb\", \"metaLoad\": os.getcwd() + \"/saved_graph/39000-SimBosch-tiny-yolo-voc-3c.meta\", \"threshold\": 0.1, \"gpu\": 1.0}\n",
    "\n",
    "    #1750 steps(Model trained with Udacity Real Data)\n",
    "    #options = {\"pbLoad\": os.getcwd() + \"/saved_graph/1750-Real-tiny-yolo-voc-3c.pb\", \"metaLoad\": os.getcwd() + \"/saved_graph/1750-Real-tiny-yolo-voc-3c.meta\", \"threshold\": 0.1, \"gpu\": 1.0}\n",
    "\n",
    "    #30000 steps(Model trained with Udacity Simulator and Real Data)\n",
    "    options = {\"pbLoad\": os.getcwd() + \"/saved_graph/30000-SimReal-tiny-yolo-voc-3c.pb\", \"metaLoad\": os.getcwd() + \"/saved_graph/30000-SimReal-tiny-yolo-voc-3c.meta\", \"threshold\": 0.1, \"gpu\": 1.0}\n",
    "    \n",
    "# Object of Darkflow\n",
    "tfnet = TFNet(options)"
   ]
  },
  {
   "cell_type": "markdown",
   "metadata": {},
   "source": [
    "### Get the predictions from the model for all the images in the sample folder"
   ]
  },
  {
   "cell_type": "code",
   "execution_count": 3,
   "metadata": {
    "collapsed": false
   },
   "outputs": [
    {
     "name": "stdout",
     "output_type": "stream",
     "text": [
      "\n",
      "Loading from .pb and .meta\n",
      "Starting predictions...\n"
     ]
    },
    {
     "ename": "FileNotFoundError",
     "evalue": "[WinError 3] The system cannot find the path specified: 'C:\\\\Users\\\\443615\\\\Documents\\\\Personal\\\\Nanodegree\\\\SDC\\\\Term3\\\\Capstone\\\\darkflow\\\\tf_light_darkflow_test/lopp_with_tl_img'",
     "output_type": "error",
     "traceback": [
      "\u001b[0;31m---------------------------------------------------------------------------\u001b[0m",
      "\u001b[0;31mFileNotFoundError\u001b[0m                         Traceback (most recent call last)",
      "\u001b[0;32m<ipython-input-3-009d8f28659c>\u001b[0m in \u001b[0;36m<module>\u001b[0;34m()\u001b[0m\n\u001b[1;32m      6\u001b[0m \u001b[1;34m'''NOTE: The Pythonized prediction time is ~1.2 - 1.5s where as the cythonized version is < 0.5s on CPU'''\u001b[0m\u001b[1;33m\u001b[0m\u001b[0m\n\u001b[1;32m      7\u001b[0m \u001b[0mprint\u001b[0m\u001b[1;33m(\u001b[0m\u001b[1;34m\"Starting predictions...\"\u001b[0m\u001b[1;33m)\u001b[0m\u001b[1;33m\u001b[0m\u001b[0m\n\u001b[0;32m----> 8\u001b[0;31m \u001b[1;32mfor\u001b[0m \u001b[0mimg_file\u001b[0m \u001b[1;32min\u001b[0m \u001b[0mos\u001b[0m\u001b[1;33m.\u001b[0m\u001b[0mlistdir\u001b[0m\u001b[1;33m(\u001b[0m\u001b[0mos\u001b[0m\u001b[1;33m.\u001b[0m\u001b[0mgetcwd\u001b[0m\u001b[1;33m(\u001b[0m\u001b[1;33m)\u001b[0m \u001b[1;33m+\u001b[0m \u001b[1;34m\"/lopp_with_tl_img\"\u001b[0m\u001b[1;33m)\u001b[0m\u001b[1;33m:\u001b[0m\u001b[1;33m\u001b[0m\u001b[0m\n\u001b[0m\u001b[1;32m      9\u001b[0m     \u001b[0mfile_path\u001b[0m \u001b[1;33m=\u001b[0m \u001b[0mos\u001b[0m\u001b[1;33m.\u001b[0m\u001b[0mgetcwd\u001b[0m\u001b[1;33m(\u001b[0m\u001b[1;33m)\u001b[0m \u001b[1;33m+\u001b[0m \u001b[1;34m\"/loop_with_tl_img/\"\u001b[0m \u001b[1;33m+\u001b[0m \u001b[0mimg_file\u001b[0m\u001b[1;33m\u001b[0m\u001b[0m\n\u001b[1;32m     10\u001b[0m     \u001b[0mimgcv\u001b[0m \u001b[1;33m=\u001b[0m \u001b[0mcv2\u001b[0m\u001b[1;33m.\u001b[0m\u001b[0mimread\u001b[0m\u001b[1;33m(\u001b[0m\u001b[0mfile_path\u001b[0m\u001b[1;33m)\u001b[0m\u001b[1;33m\u001b[0m\u001b[0m\n",
      "\u001b[0;31mFileNotFoundError\u001b[0m: [WinError 3] The system cannot find the path specified: 'C:\\\\Users\\\\443615\\\\Documents\\\\Personal\\\\Nanodegree\\\\SDC\\\\Term3\\\\Capstone\\\\darkflow\\\\tf_light_darkflow_test/lopp_with_tl_img'"
     ]
    }
   ],
   "source": [
    "# Predictions using darkflow cythonized code and non-cythonized code\n",
    "predictions_darkflow = {}\n",
    "predictions_nondarkflow = {}\n",
    "yolo_test = YOLOTest(options)\n",
    "\n",
    "'''NOTE: The Pythonized prediction time is ~1.2 - 1.5s where as the cythonized version is < 0.5s on CPU'''\n",
    "print(\"Starting predictions...\")\n",
    "for img_file in os.listdir(os.getcwd() + \"/loop_with_tl_img\"):\n",
    "    file_path = os.getcwd() + \"/loop_with_tl_img/\" + img_file\n",
    "    imgcv = cv2.imread(file_path)\n",
    "    #t = time.time()\n",
    "    #result = tfnet.return_predict(imgcv)\n",
    "    #print(\"Cythonized Inference Time %.3f seconds\" % (time.time() - t))\n",
    "    #predictions_darkflow[img_file] = result\n",
    "    #t = time.time()\n",
    "    result = return_predict(imgcv, yolo_test)\n",
    "    #print(\"Pythonized Inference Time %.3f seconds\" % (time.time() - t))\n",
    "    predictions_nondarkflow[img_file] = result\n",
    "print(\"Completed!\")\n",
    "#pprint(predictions_darkflow)"
   ]
  },
  {
   "cell_type": "markdown",
   "metadata": {},
   "source": [
    "### Visualize the predictions"
   ]
  },
  {
   "cell_type": "code",
   "execution_count": 16,
   "metadata": {
    "collapsed": false
   },
   "outputs": [
    {
     "name": "stdout",
     "output_type": "stream",
     "text": [
      "Deleting previous annotations directory\n"
     ]
    }
   ],
   "source": [
    "# Function to visualize predictions on an image and store\n",
    "def visualizePredictions(predictions, source=\"darkflow\"):\n",
    "    # For each of the annnotations result plot the annotation box and display the image\n",
    "    for img_file, results in predictions.items():\n",
    "        # Read the image file\n",
    "        image_file_path = os.getcwd() + \"/loop_with_tl_img/\" + img_file\n",
    "        image = cv2.imread(image_file_path)\n",
    "\n",
    "        for result in results:\n",
    "            # Get the top left co-ordinates and insert into a tuple\n",
    "            x = result['topleft']['x']\n",
    "            y = result['topleft']['y']\n",
    "            top_left = (x, y)\n",
    "\n",
    "            # Get the top left co-ordinates and insert into a tuple\n",
    "            x = result['bottomright']['x']\n",
    "            y = result['bottomright']['y']\n",
    "            bottom_right = (x, y)\n",
    "\n",
    "            # Get the label and the confidence scores\n",
    "            label = result['label']\n",
    "            confidence = result['confidence']\n",
    "\n",
    "            # Add the bounding boxes and the label with confidence scores if it is above 75%\n",
    "            if confidence > 0.70:\n",
    "                if label == \"red_rect\":\n",
    "                    label_to_display = \"Red\"\n",
    "                    color_to_display = (0, 0, 255)\n",
    "                elif label == \"orange_rect\":\n",
    "                    label_to_display = \"Yellow\"\n",
    "                    color_to_display = (0, 255, 255)\n",
    "                elif label == \"green_rect\":\n",
    "                    label_to_display = \"Green\"\n",
    "                    color_to_display = (0, 255, 0)\n",
    "\n",
    "                # Add the rectangle \n",
    "                image = cv2.rectangle(image, top_left, bottom_right, color_to_display, 3)\n",
    "\n",
    "                # Bottom left of text\n",
    "                bottom_left_text_x = top_left[0]\n",
    "                bottom_left_text_y = top_left[1] - 10\n",
    "                bottom_left_text = (bottom_left_text_x, bottom_left_text_y)\n",
    "                \n",
    "                # Add the prediction percentage as well\n",
    "                label_to_display = label_to_display + \": \" + \"{:.2f}\".format(confidence * 100) + \"%\"\n",
    "                \n",
    "                # Add the label\n",
    "                image = cv2.putText(image, label_to_display, bottom_left_text, \n",
    "                                    cv2.FONT_HERSHEY_PLAIN, 2, color_to_display, 1)\n",
    "        \n",
    "        # Write the final file with or without annotations\n",
    "        cv2.imwrite(annotations_dir + \"/\" + source + \"_\" + img_file, image)\n",
    "        \n",
    "# Remove existing annotations and create new ones based on the results\n",
    "#annotations_dir = os.getcwd() + \"/sample_img_annotated\"\n",
    "annotations_dir = os.getcwd() + \"/loop_with_tl_img_annotated\"\n",
    "if os.path.exists(annotations_dir):\n",
    "    print(\"Deleting previous annotations directory\")\n",
    "    shutil.rmtree(annotations_dir)\n",
    "os.makedirs(annotations_dir)\n",
    "\n",
    "# Visualize predictions from the cythonized version and the non-cythonized version\n",
    "#visualizePredictions(predictions_darkflow, \"darkflow\")\n",
    "visualizePredictions(predictions_nondarkflow, \"nodarkflow\")"
   ]
  },
  {
   "cell_type": "code",
   "execution_count": null,
   "metadata": {
    "collapsed": true
   },
   "outputs": [],
   "source": []
  }
 ],
 "metadata": {
  "kernelspec": {
   "display_name": "Python 3",
   "language": "python",
   "name": "python3"
  },
  "language_info": {
   "codemirror_mode": {
    "name": "ipython",
    "version": 3
   },
   "file_extension": ".py",
   "mimetype": "text/x-python",
   "name": "python",
   "nbconvert_exporter": "python",
   "pygments_lexer": "ipython3",
   "version": "3.5.2"
  },
  "widgets": {
   "state": {},
   "version": "1.1.2"
  }
 },
 "nbformat": 4,
 "nbformat_minor": 2
}
